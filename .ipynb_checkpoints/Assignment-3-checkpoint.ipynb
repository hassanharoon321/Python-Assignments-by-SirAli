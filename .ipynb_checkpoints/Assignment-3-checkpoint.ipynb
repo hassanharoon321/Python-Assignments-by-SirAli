{
 "cells": [
  {
   "cell_type": "markdown",
   "metadata": {},
   "source": [
    "Start with the name of Allah who is the most Benefical and most Merciful"
   ]
  },
  {
   "cell_type": "markdown",
   "metadata": {},
   "source": [
    "# 1. Make a calculator using Python with addition , subtraction , multiplication , division and power"
   ]
  },
  {
   "cell_type": "code",
   "execution_count": 5,
   "metadata": {},
   "outputs": [
    {
     "name": "stdout",
     "output_type": "stream",
     "text": [
      "Enter Your First Number2\n",
      "Enter Your Last Number2\n",
      "\n",
      "Press 1 for addation\n",
      " Press 2 for subraction\n",
      " Press 3 for Multiplication\n",
      " Press 4 for Division\n",
      " Press 5 for Power 5\n",
      "4\n"
     ]
    }
   ],
   "source": [
    "num1 = int(input(\"Enter Your First Number\"))\n",
    "num2 = int(input(\"Enter Your Last Number\"))\n",
    "op = int(input(\"\\nPress 1 for addation\\n Press 2 for subraction\\n Press 3 for Multiplication\\n Press 4 for Division\\n Press 5 for Power \"))\n",
    "\n",
    "if op ==1:\n",
    "    add = num1 + num2\n",
    "    print(add)\n",
    "elif op ==2:\n",
    "    sub = num1 -num2\n",
    "    print(sub)\n",
    "elif op ==3:\n",
    "    mul = num1 *num2\n",
    "    print(mul)\n",
    "elif op==4:\n",
    "    div = num1/num2\n",
    "    print(div)\n",
    "elif op==5:\n",
    "    power = num1**num2\n",
    "    print(power)\n",
    "else:\n",
    "    print(\"Invalid Syntax\")"
   ]
  },
  {
   "cell_type": "markdown",
   "metadata": {},
   "source": [
    "# 2. Write a program to check if there is any numeric value in list using for loop"
   ]
  },
  {
   "cell_type": "code",
   "execution_count": 6,
   "metadata": {},
   "outputs": [
    {
     "name": "stdout",
     "output_type": "stream",
     "text": [
      "Numeric Value find in list:  89\n",
      "Numeric Value find in list:  90\n"
     ]
    }
   ],
   "source": [
    "mylist = [\"string\", \"non string\", \"python\", 89, \"K\", \"PIAIC\", 90, \"Pakistan\"]\n",
    "x = 0\n",
    "num = type(x)\n",
    "for i in mylist:\n",
    "    m = type(i)\n",
    "    if m == num:\n",
    "        print(\"Numeric Value find in list: \",i)\n",
    "    else:\n",
    "        continue"
   ]
  },
  {
   "cell_type": "markdown",
   "metadata": {},
   "source": [
    "# 3. Write a Python script to add a key to a dictionary"
   ]
  },
  {
   "cell_type": "code",
   "execution_count": 7,
   "metadata": {},
   "outputs": [
    {
     "name": "stdout",
     "output_type": "stream",
     "text": [
      "{'a': 2, 'b': 3, 'c': None}\n"
     ]
    }
   ],
   "source": [
    "dic = {\"a\":2,\"b\":3}\n",
    "dic[\"c\"]= None\n",
    "print(dic)"
   ]
  },
  {
   "cell_type": "markdown",
   "metadata": {},
   "source": [
    "# 4. Write a Python program to sum all the numeric items in a dictionary"
   ]
  },
  {
   "cell_type": "code",
   "execution_count": 9,
   "metadata": {},
   "outputs": [
    {
     "name": "stdout",
     "output_type": "stream",
     "text": [
      "99\n"
     ]
    }
   ],
   "source": [
    "dic = {\"a\":22,\"b\":33,\"c\":44}\n",
    "x = sum(dic.values())\n",
    "print(x)"
   ]
  },
  {
   "cell_type": "markdown",
   "metadata": {},
   "source": [
    "# 5. Write a program to identify duplicate values from list"
   ]
  },
  {
   "cell_type": "code",
   "execution_count": 11,
   "metadata": {},
   "outputs": [
    {
     "name": "stdout",
     "output_type": "stream",
     "text": [
      "Duplicate Values are :  ['hassan', 33, 22, 'haroon']\n"
     ]
    }
   ],
   "source": [
    "newlist = [11,23,67,88,66,\"hassan\",44,33,22,33,22,45,\"hassan\",\"haroon\",\"haroon\"]\n",
    "repeated = []\n",
    "\n",
    "for i in newlist:\n",
    "    a = newlist.count(i)\n",
    "    if a > 1:\n",
    "        if i in repeated:\n",
    "            continue\n",
    "        else:\n",
    "            repeated.append(i)\n",
    "            \n",
    "print(\"Duplicate Values are : \",repeated)"
   ]
  },
  {
   "cell_type": "markdown",
   "metadata": {},
   "source": [
    "# 6. Write a Python script to check if a given key already exists in a dictionary"
   ]
  },
  {
   "cell_type": "code",
   "execution_count": 13,
   "metadata": {},
   "outputs": [
    {
     "name": "stdout",
     "output_type": "stream",
     "text": [
      "Enter key to check existence: Country\n",
      "The key : Country Is Already Exist\n"
     ]
    }
   ],
   "source": [
    "student = {'Name': 'hassan', 'Rollno': 'aic002456', 'Course': 'AI',\n",
    "          'Age': 20, 'City': 'Karachi', 'Country': 'Pakistan'}\n",
    "\n",
    "key_to_check = input(\"Enter key to check existence: \")\n",
    "if key_to_check in student.keys():\n",
    "    print(\"The key : \" + key_to_check + \" Is Already Exist\")\n",
    "else:\n",
    "    print(\"The key : \" + key_to_check + \" Is Not Exist\")"
   ]
  }
 ],
 "metadata": {
  "kernelspec": {
   "display_name": "Python 3",
   "language": "python",
   "name": "python3"
  },
  "language_info": {
   "codemirror_mode": {
    "name": "ipython",
    "version": 3
   },
   "file_extension": ".py",
   "mimetype": "text/x-python",
   "name": "python",
   "nbconvert_exporter": "python",
   "pygments_lexer": "ipython3",
   "version": "3.7.4"
  }
 },
 "nbformat": 4,
 "nbformat_minor": 2
}
