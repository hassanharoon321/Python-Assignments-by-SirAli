{
 "cells": [
  {
   "cell_type": "markdown",
   "metadata": {},
   "source": [
    "Start with the name of Allah who is the most Benefical and most Mercifull"
   ]
  },
  {
   "cell_type": "markdown",
   "metadata": {},
   "source": [
    "# 1. Write a program which takes 5 inputs from user for different subject’s marks, total it and generate mark sheet using grades?"
   ]
  },
  {
   "cell_type": "code",
   "execution_count": 1,
   "metadata": {},
   "outputs": [
    {
     "name": "stdout",
     "output_type": "stream",
     "text": [
      "Enter your English Marks: 50\n",
      "Enter your Urdu Marks: 50\n",
      "Enter your Computer Marks: 50\n",
      "Enter your Islamiat Marks: 50\n",
      "Enter your Mathematics Marks: 50\n",
      "\n",
      "Your Percentage is  50.0\n",
      "& Grade is E\n"
     ]
    }
   ],
   "source": [
    "english= float(input(\"Enter your English Marks: \"))\n",
    "urdu= float(input(\"Enter your Urdu Marks: \"))\n",
    "computer= float(input(\"Enter your Computer Marks: \"))\n",
    "islamiat= float(input(\"Enter your Islamiat Marks: \"))\n",
    "math= float(input(\"Enter your Mathematics Marks: \"))\n",
    "\n",
    "p = (english + urdu + computer + islamiat + math) /5 \n",
    "int(p)\n",
    "print(\"\\nYour Percentage is \",p)\n",
    "\n",
    "if p<=100 and p>=90:\n",
    "    print(\"& Grade is A\")\n",
    "elif p<90 and p>=80:\n",
    "    print(\"& Grade is B\")\n",
    "elif p<80 and p>=70:\n",
    "    print(\"& Grade is C\")\n",
    "elif p<70 and p>=60:\n",
    "    print(\"& Grade is D\")\n",
    "elif p<60 and p>=50:\n",
    "    print(\"& Grade is E\")\n",
    "elif p<50:\n",
    "    print(\"Sorry You Fail\")"
   ]
  },
  {
   "cell_type": "markdown",
   "metadata": {},
   "source": [
    "# 2. Write a program which take input from user and identify that the given number is even or odd?"
   ]
  },
  {
   "cell_type": "code",
   "execution_count": 2,
   "metadata": {},
   "outputs": [
    {
     "name": "stdout",
     "output_type": "stream",
     "text": [
      "Enter the Number to check is Even or Odd: 2\n",
      "Even\n"
     ]
    }
   ],
   "source": [
    "number = int(input(\"Enter the Number to check is Even or Odd: \"))\n",
    "if number%2==0:\n",
    "    print(\"Even\")\n",
    "else:\n",
    "    print(\"odd\")"
   ]
  },
  {
   "cell_type": "markdown",
   "metadata": {},
   "source": [
    "# 3. Write a program which print the length of the list?"
   ]
  },
  {
   "cell_type": "code",
   "execution_count": 3,
   "metadata": {},
   "outputs": [
    {
     "name": "stdout",
     "output_type": "stream",
     "text": [
      "5\n"
     ]
    }
   ],
   "source": [
    "length = [\"one\",\"two\",\"three\",\"four\",\"five\"]\n",
    "print(len(length))"
   ]
  },
  {
   "cell_type": "markdown",
   "metadata": {},
   "source": [
    "# 4. Write a Python program to sum all the numeric items in a list?"
   ]
  },
  {
   "cell_type": "code",
   "execution_count": 4,
   "metadata": {},
   "outputs": [
    {
     "name": "stdout",
     "output_type": "stream",
     "text": [
      "sum of list is:  55\n"
     ]
    }
   ],
   "source": [
    "numbers = [1,2,3,4,5,6,7,8,9,10]\n",
    "add = 0\n",
    "for i in numbers:\n",
    "    add+=i\n",
    "print(\"sum of list is: \",add)"
   ]
  },
  {
   "cell_type": "markdown",
   "metadata": {},
   "source": [
    "# 5. Write a Python program to get the largest number from a numeric list."
   ]
  },
  {
   "cell_type": "code",
   "execution_count": 5,
   "metadata": {},
   "outputs": [
    {
     "name": "stdout",
     "output_type": "stream",
     "text": [
      "10\n"
     ]
    }
   ],
   "source": [
    "numbers = [1,2,3,4,5,6,7,8,9,10]\n",
    "large = 0\n",
    "for  i in numbers:\n",
    "    if i >= large:\n",
    "        large = i\n",
    "print(large)"
   ]
  },
  {
   "cell_type": "markdown",
   "metadata": {},
   "source": [
    "# 6. Take a list, say for example this one: a = [1, 1, 2, 3, 5, 8, 13, 21, 34, 55, 89] and write a program that prints out all the elements of the list that are less than 5"
   ]
  },
  {
   "cell_type": "code",
   "execution_count": 6,
   "metadata": {},
   "outputs": [
    {
     "data": {
      "text/plain": [
       "[2, 3, 1, 1, 4]"
      ]
     },
     "execution_count": 6,
     "metadata": {},
     "output_type": "execute_result"
    }
   ],
   "source": [
    "num = [2, 3, 5, 5, 8, 13, 21, 34, 55, 89, 1, 1, 4]\n",
    "newlist = []\n",
    "for i in num:\n",
    "    if i < 5:\n",
    "        newlist.append(i)\n",
    "newlist"
   ]
  }
 ],
 "metadata": {
  "kernelspec": {
   "display_name": "Python 3",
   "language": "python",
   "name": "python3"
  },
  "language_info": {
   "codemirror_mode": {
    "name": "ipython",
    "version": 3
   },
   "file_extension": ".py",
   "mimetype": "text/x-python",
   "name": "python",
   "nbconvert_exporter": "python",
   "pygments_lexer": "ipython3",
   "version": "3.7.4"
  }
 },
 "nbformat": 4,
 "nbformat_minor": 2
}
