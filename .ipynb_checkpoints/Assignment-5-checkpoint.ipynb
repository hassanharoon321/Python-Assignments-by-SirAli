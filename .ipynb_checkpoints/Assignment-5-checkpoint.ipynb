{
 "cells": [
  {
   "cell_type": "markdown",
   "metadata": {},
   "source": [
    "# Question:1, Write a Python function to calculate the factorial of a number (a non-negative integer). The function accepts the number as an argument."
   ]
  },
  {
   "cell_type": "code",
   "execution_count": 1,
   "metadata": {},
   "outputs": [
    {
     "name": "stdout",
     "output_type": "stream",
     "text": [
      "The factorial of 5 is 120\n"
     ]
    }
   ],
   "source": [
    "def fact(num):\n",
    "    factorial = 1\n",
    "    if num < 0:\n",
    "        print(\"Sorry, factorial does not exist for negative numbers\")\n",
    "    elif num == 0:\n",
    "        print(\"The factorial of 0 is 1\")\n",
    "    else:\n",
    "        for i in range(1,num + 1):\n",
    "            factorial = factorial*i\n",
    "        print(\"The factorial of\",num,\"is\",factorial)\n",
    "fact(5)"
   ]
  },
  {
   "cell_type": "markdown",
   "metadata": {},
   "source": [
    "# Question:2, Write a Python function that accepts a string and calculate the number of uppercase letters and lower case letters."
   ]
  },
  {
   "cell_type": "code",
   "execution_count": 3,
   "metadata": {},
   "outputs": [
    {
     "name": "stdout",
     "output_type": "stream",
     "text": [
      "Number of Uppercase Letters are:  4\n",
      "Number of Lowercase Letters are:  16\n"
     ]
    }
   ],
   "source": [
    "def countchar(msg):\n",
    "    uppers = 0\n",
    "    lowers = 0\n",
    "    ABC = list(range(65, 91))\n",
    "    abc = list(range(97, 123))\n",
    "    \n",
    "    for up in msg:\n",
    "            if up in (map(chr, ABC)):\n",
    "                if up == up.upper():\n",
    "                    uppers += 1\n",
    "                    \n",
    "            if up in (map(chr, abc)):\n",
    "                if up == up.lower():\n",
    "                    lowers += 1            \n",
    "            \n",
    "    print(\"Number of Uppercase Letters are: \",uppers)\n",
    "    print(\"Number of Lowercase Letters are: \",lowers)\n",
    "\n",
    "countchar(\"My Name is Hassan Haroon\")"
   ]
  },
  {
   "cell_type": "markdown",
   "metadata": {},
   "source": [
    "# Question:3, Write a Python function to print the even numbers from a given list."
   ]
  },
  {
   "cell_type": "code",
   "execution_count": 4,
   "metadata": {},
   "outputs": [
    {
     "name": "stdout",
     "output_type": "stream",
     "text": [
      "The even numbers in given list are : 2, 4, 32, 82, 78, 56, 12, "
     ]
    }
   ],
   "source": [
    "def even(numbers):\n",
    "    evenlist = []\n",
    "    for num in numbers:\n",
    "        if num % 2 == 0:\n",
    "            evenlist.append(num)\n",
    "    print(\"The even numbers in given list are :\", end = \" \")\n",
    "    for i in evenlist:\n",
    "        print(i, end=\", \")\n",
    "numbers = [21,9,27,2,4,67,32,67,82,35,78,23,56,12]\n",
    "even(numbers)"
   ]
  },
  {
   "cell_type": "markdown",
   "metadata": {},
   "source": [
    "# Question:4 Write a Python function that checks whether a passed string is palindrome or not. Note: A palindrome is a word, phrase, or sequence that reads the same backward as forward, e.g., madam"
   ]
  },
  {
   "cell_type": "code",
   "execution_count": 6,
   "metadata": {},
   "outputs": [
    {
     "name": "stdout",
     "output_type": "stream",
     "text": [
      "The given string is not Palindrome\n",
      "The given string is not Palindrome\n"
     ]
    }
   ],
   "source": [
    "def palindrome(msg):\n",
    "    a = msg[::-1]\n",
    "    if a == msg:\n",
    "        print(\"The given string is Palindrome\")\n",
    "    else:\n",
    "        print(\"The given string is not Palindrome\")\n",
    "palindrome(\"nashsa\")\n",
    "palindrome(\"hassan\")"
   ]
  },
  {
   "cell_type": "markdown",
   "metadata": {},
   "source": [
    "# Question:5, Write a Python function that takes a number as a parameter and check the number is prime or not."
   ]
  },
  {
   "cell_type": "code",
   "execution_count": 8,
   "metadata": {},
   "outputs": [
    {
     "name": "stdout",
     "output_type": "stream",
     "text": [
      "19 is a prime number\n"
     ]
    }
   ],
   "source": [
    "def checkprime(num):\n",
    "    if num > 1:\n",
    "        for i in range(2,num):\n",
    "            if (num % i) == 0:\n",
    "                print(num,\"is not a prime number\")\n",
    "                break\n",
    "        else:\n",
    "            print(num,\"is a prime number\")\n",
    "\n",
    "    else:\n",
    "        print(num,\"is not a prime number\")\n",
    "checkprime(19)"
   ]
  },
  {
   "cell_type": "markdown",
   "metadata": {},
   "source": [
    "# Question:6, Suppose a customer is shopping in a market and you need to print all the items which user bought from market. Write a function which accepts the multiple arguments of user shopping list and print all the items which user bought from market"
   ]
  },
  {
   "cell_type": "code",
   "execution_count": 9,
   "metadata": {},
   "outputs": [
    {
     "name": "stdout",
     "output_type": "stream",
     "text": [
      "User bought following items for market:\n",
      "Rice, Eggs, Chicken, Bread, Honey, Apples, Oranges, "
     ]
    }
   ],
   "source": [
    "def shoplist(*items):\n",
    "    print(\"User bought following items for market:\")\n",
    "    for i in items:\n",
    "        print(i, end = \", \")\n",
    "shoplist(\"Rice\",\"Eggs\",\"Chicken\",\"Bread\",\"Honey\",\"Apples\",\"Oranges\")"
   ]
  },
  {
   "cell_type": "code",
   "execution_count": null,
   "metadata": {},
   "outputs": [],
   "source": []
  }
 ],
 "metadata": {
  "kernelspec": {
   "display_name": "Python 3",
   "language": "python",
   "name": "python3"
  },
  "language_info": {
   "codemirror_mode": {
    "name": "ipython",
    "version": 3
   },
   "file_extension": ".py",
   "mimetype": "text/x-python",
   "name": "python",
   "nbconvert_exporter": "python",
   "pygments_lexer": "ipython3",
   "version": "3.7.4"
  }
 },
 "nbformat": 4,
 "nbformat_minor": 2
}
